{
 "cells": [
  {
   "cell_type": "code",
   "execution_count": 37,
   "id": "e94480ac",
   "metadata": {
    "scrolled": true
   },
   "outputs": [],
   "source": [
    "import matplotlib.pyplot as plt\n",
    "import numpy as np\n",
    "import pandas as pd\n",
    "import seaborn as sns\n",
    "%matplotlib inline\n",
    "\n",
    "import tensorflow as tf\n",
    "from tensorflow import feature_column \n",
    "\n",
    "from sklearn.model_selection import train_test_split\n",
    "from sklearn.metrics import classification_report,confusion_matrix,accuracy_score\n",
    "from sklearn.preprocessing import RobustScaler\n",
    "\n",
    "from imblearn.over_sampling import SMOTE\n",
    "\n",
    "import torch\n",
    "import torch.nn as nn\n",
    "import torch.nn.functional as F\n",
    "from torch import optim\n",
    "from torch.utils.data import TensorDataset, DataLoader\n",
    "from torch.autograd import Variable\n",
    "from tqdm.notebook import tqdm\n",
    "\n",
    "import warnings\n",
    "warnings.filterwarnings('ignore', category=FutureWarning)\n",
    "warnings.filterwarnings('ignore', category=DeprecationWarning)"
   ]
  },
  {
   "cell_type": "markdown",
   "id": "9e5cc329",
   "metadata": {},
   "source": [
    "# DATASET ANALYSIS AND PREPROCESSING"
   ]
  },
  {
   "cell_type": "code",
   "execution_count": 38,
   "id": "fe5881eb",
   "metadata": {
    "scrolled": true
   },
   "outputs": [
    {
     "data": {
      "text/html": [
       "<div>\n",
       "<style scoped>\n",
       "    .dataframe tbody tr th:only-of-type {\n",
       "        vertical-align: middle;\n",
       "    }\n",
       "\n",
       "    .dataframe tbody tr th {\n",
       "        vertical-align: top;\n",
       "    }\n",
       "\n",
       "    .dataframe thead th {\n",
       "        text-align: right;\n",
       "    }\n",
       "</style>\n",
       "<table border=\"1\" class=\"dataframe\">\n",
       "  <thead>\n",
       "    <tr style=\"text-align: right;\">\n",
       "      <th></th>\n",
       "      <th>Time</th>\n",
       "      <th>V1</th>\n",
       "      <th>V2</th>\n",
       "      <th>V3</th>\n",
       "      <th>V4</th>\n",
       "      <th>V5</th>\n",
       "      <th>V6</th>\n",
       "      <th>V7</th>\n",
       "      <th>V8</th>\n",
       "      <th>V9</th>\n",
       "      <th>...</th>\n",
       "      <th>V21</th>\n",
       "      <th>V22</th>\n",
       "      <th>V23</th>\n",
       "      <th>V24</th>\n",
       "      <th>V25</th>\n",
       "      <th>V26</th>\n",
       "      <th>V27</th>\n",
       "      <th>V28</th>\n",
       "      <th>Amount</th>\n",
       "      <th>Class</th>\n",
       "    </tr>\n",
       "  </thead>\n",
       "  <tbody>\n",
       "    <tr>\n",
       "      <th>0</th>\n",
       "      <td>2</td>\n",
       "      <td>-1.158233</td>\n",
       "      <td>0.877737</td>\n",
       "      <td>1.548718</td>\n",
       "      <td>0.403034</td>\n",
       "      <td>-0.407193</td>\n",
       "      <td>0.095921</td>\n",
       "      <td>0.592941</td>\n",
       "      <td>-0.270533</td>\n",
       "      <td>0.817739</td>\n",
       "      <td>...</td>\n",
       "      <td>-0.009431</td>\n",
       "      <td>0.798278</td>\n",
       "      <td>-0.137458</td>\n",
       "      <td>0.141267</td>\n",
       "      <td>-0.206010</td>\n",
       "      <td>0.502292</td>\n",
       "      <td>0.219422</td>\n",
       "      <td>0.215153</td>\n",
       "      <td>69.99</td>\n",
       "      <td>0</td>\n",
       "    </tr>\n",
       "    <tr>\n",
       "      <th>1</th>\n",
       "      <td>2</td>\n",
       "      <td>-0.425966</td>\n",
       "      <td>0.960523</td>\n",
       "      <td>1.141109</td>\n",
       "      <td>-0.168252</td>\n",
       "      <td>0.420987</td>\n",
       "      <td>-0.029728</td>\n",
       "      <td>0.476201</td>\n",
       "      <td>0.260314</td>\n",
       "      <td>-0.568671</td>\n",
       "      <td>...</td>\n",
       "      <td>-0.208254</td>\n",
       "      <td>-0.559825</td>\n",
       "      <td>-0.026398</td>\n",
       "      <td>-0.371427</td>\n",
       "      <td>-0.232794</td>\n",
       "      <td>0.105915</td>\n",
       "      <td>0.253844</td>\n",
       "      <td>0.081080</td>\n",
       "      <td>3.67</td>\n",
       "      <td>0</td>\n",
       "    </tr>\n",
       "    <tr>\n",
       "      <th>2</th>\n",
       "      <td>7</td>\n",
       "      <td>-0.644269</td>\n",
       "      <td>1.417964</td>\n",
       "      <td>1.074380</td>\n",
       "      <td>-0.492199</td>\n",
       "      <td>0.948934</td>\n",
       "      <td>0.428118</td>\n",
       "      <td>1.120631</td>\n",
       "      <td>-3.807864</td>\n",
       "      <td>0.615375</td>\n",
       "      <td>...</td>\n",
       "      <td>1.943465</td>\n",
       "      <td>-1.015455</td>\n",
       "      <td>0.057504</td>\n",
       "      <td>-0.649709</td>\n",
       "      <td>-0.415267</td>\n",
       "      <td>-0.051634</td>\n",
       "      <td>-1.206921</td>\n",
       "      <td>-1.085339</td>\n",
       "      <td>40.80</td>\n",
       "      <td>0</td>\n",
       "    </tr>\n",
       "    <tr>\n",
       "      <th>3</th>\n",
       "      <td>11</td>\n",
       "      <td>1.069374</td>\n",
       "      <td>0.287722</td>\n",
       "      <td>0.828613</td>\n",
       "      <td>2.712520</td>\n",
       "      <td>-0.178398</td>\n",
       "      <td>0.337544</td>\n",
       "      <td>-0.096717</td>\n",
       "      <td>0.115982</td>\n",
       "      <td>-0.221083</td>\n",
       "      <td>...</td>\n",
       "      <td>-0.036876</td>\n",
       "      <td>0.074412</td>\n",
       "      <td>-0.071407</td>\n",
       "      <td>0.104744</td>\n",
       "      <td>0.548265</td>\n",
       "      <td>0.104094</td>\n",
       "      <td>0.021491</td>\n",
       "      <td>0.021293</td>\n",
       "      <td>27.50</td>\n",
       "      <td>0</td>\n",
       "    </tr>\n",
       "    <tr>\n",
       "      <th>4</th>\n",
       "      <td>12</td>\n",
       "      <td>-0.752417</td>\n",
       "      <td>0.345485</td>\n",
       "      <td>2.057323</td>\n",
       "      <td>-1.468643</td>\n",
       "      <td>-1.158394</td>\n",
       "      <td>-0.077850</td>\n",
       "      <td>-0.608581</td>\n",
       "      <td>0.003603</td>\n",
       "      <td>-0.436167</td>\n",
       "      <td>...</td>\n",
       "      <td>0.499625</td>\n",
       "      <td>1.353650</td>\n",
       "      <td>-0.256573</td>\n",
       "      <td>-0.065084</td>\n",
       "      <td>-0.039124</td>\n",
       "      <td>-0.087086</td>\n",
       "      <td>-0.180998</td>\n",
       "      <td>0.129394</td>\n",
       "      <td>15.99</td>\n",
       "      <td>0</td>\n",
       "    </tr>\n",
       "  </tbody>\n",
       "</table>\n",
       "<p>5 rows × 31 columns</p>\n",
       "</div>"
      ],
      "text/plain": [
       "   Time        V1        V2        V3        V4        V5        V6        V7  \\\n",
       "0     2 -1.158233  0.877737  1.548718  0.403034 -0.407193  0.095921  0.592941   \n",
       "1     2 -0.425966  0.960523  1.141109 -0.168252  0.420987 -0.029728  0.476201   \n",
       "2     7 -0.644269  1.417964  1.074380 -0.492199  0.948934  0.428118  1.120631   \n",
       "3    11  1.069374  0.287722  0.828613  2.712520 -0.178398  0.337544 -0.096717   \n",
       "4    12 -0.752417  0.345485  2.057323 -1.468643 -1.158394 -0.077850 -0.608581   \n",
       "\n",
       "         V8        V9  ...       V21       V22       V23       V24       V25  \\\n",
       "0 -0.270533  0.817739  ... -0.009431  0.798278 -0.137458  0.141267 -0.206010   \n",
       "1  0.260314 -0.568671  ... -0.208254 -0.559825 -0.026398 -0.371427 -0.232794   \n",
       "2 -3.807864  0.615375  ...  1.943465 -1.015455  0.057504 -0.649709 -0.415267   \n",
       "3  0.115982 -0.221083  ... -0.036876  0.074412 -0.071407  0.104744  0.548265   \n",
       "4  0.003603 -0.436167  ...  0.499625  1.353650 -0.256573 -0.065084 -0.039124   \n",
       "\n",
       "        V26       V27       V28  Amount  Class  \n",
       "0  0.502292  0.219422  0.215153   69.99      0  \n",
       "1  0.105915  0.253844  0.081080    3.67      0  \n",
       "2 -0.051634 -1.206921 -1.085339   40.80      0  \n",
       "3  0.104094  0.021491  0.021293   27.50      0  \n",
       "4 -0.087086 -0.180998  0.129394   15.99      0  \n",
       "\n",
       "[5 rows x 31 columns]"
      ]
     },
     "execution_count": 38,
     "metadata": {},
     "output_type": "execute_result"
    }
   ],
   "source": [
    "df = pd.read_csv(\"CreditCardDataset.csv\")\n",
    "df.head()"
   ]
  },
  {
   "cell_type": "code",
   "execution_count": 39,
   "id": "249ca121",
   "metadata": {},
   "outputs": [
    {
     "name": "stdout",
     "output_type": "stream",
     "text": [
      "<class 'pandas.core.frame.DataFrame'>\n",
      "RangeIndex: 57355 entries, 0 to 57354\n",
      "Data columns (total 31 columns):\n",
      " #   Column  Non-Null Count  Dtype  \n",
      "---  ------  --------------  -----  \n",
      " 0   Time    57355 non-null  int64  \n",
      " 1   V1      57355 non-null  float64\n",
      " 2   V2      57355 non-null  float64\n",
      " 3   V3      57355 non-null  float64\n",
      " 4   V4      57355 non-null  float64\n",
      " 5   V5      57355 non-null  float64\n",
      " 6   V6      57355 non-null  float64\n",
      " 7   V7      57355 non-null  float64\n",
      " 8   V8      57355 non-null  float64\n",
      " 9   V9      57355 non-null  float64\n",
      " 10  V10     57355 non-null  float64\n",
      " 11  V11     57355 non-null  float64\n",
      " 12  V12     57355 non-null  float64\n",
      " 13  V13     57355 non-null  float64\n",
      " 14  V14     57355 non-null  float64\n",
      " 15  V15     57355 non-null  float64\n",
      " 16  V16     57355 non-null  float64\n",
      " 17  V17     57355 non-null  float64\n",
      " 18  V18     57355 non-null  float64\n",
      " 19  V19     57355 non-null  float64\n",
      " 20  V20     57355 non-null  float64\n",
      " 21  V21     57355 non-null  float64\n",
      " 22  V22     57355 non-null  float64\n",
      " 23  V23     57355 non-null  float64\n",
      " 24  V24     57355 non-null  float64\n",
      " 25  V25     57355 non-null  float64\n",
      " 26  V26     57355 non-null  float64\n",
      " 27  V27     57355 non-null  float64\n",
      " 28  V28     57355 non-null  float64\n",
      " 29  Amount  57355 non-null  float64\n",
      " 30  Class   57355 non-null  int64  \n",
      "dtypes: float64(29), int64(2)\n",
      "memory usage: 13.6 MB\n"
     ]
    }
   ],
   "source": [
    "df.info()"
   ]
  },
  {
   "cell_type": "code",
   "execution_count": 40,
   "id": "e57d3b83",
   "metadata": {
    "scrolled": true
   },
   "outputs": [
    {
     "data": {
      "text/plain": [
       "Time      0\n",
       "V1        0\n",
       "V2        0\n",
       "V3        0\n",
       "V4        0\n",
       "V5        0\n",
       "V6        0\n",
       "V7        0\n",
       "V8        0\n",
       "V9        0\n",
       "V10       0\n",
       "V11       0\n",
       "V12       0\n",
       "V13       0\n",
       "V14       0\n",
       "V15       0\n",
       "V16       0\n",
       "V17       0\n",
       "V18       0\n",
       "V19       0\n",
       "V20       0\n",
       "V21       0\n",
       "V22       0\n",
       "V23       0\n",
       "V24       0\n",
       "V25       0\n",
       "V26       0\n",
       "V27       0\n",
       "V28       0\n",
       "Amount    0\n",
       "Class     0\n",
       "dtype: int64"
      ]
     },
     "execution_count": 40,
     "metadata": {},
     "output_type": "execute_result"
    }
   ],
   "source": [
    "df.isnull().sum()"
   ]
  },
  {
   "cell_type": "markdown",
   "id": "559d67ad",
   "metadata": {},
   "source": [
    "No null values in data."
   ]
  },
  {
   "cell_type": "code",
   "execution_count": 41,
   "id": "9272a11a",
   "metadata": {},
   "outputs": [
    {
     "data": {
      "text/plain": [
       "2"
      ]
     },
     "execution_count": 41,
     "metadata": {},
     "output_type": "execute_result"
    }
   ],
   "source": [
    "df['Class'].nunique()"
   ]
  },
  {
   "cell_type": "code",
   "execution_count": 42,
   "id": "d4b7a4c3",
   "metadata": {},
   "outputs": [
    {
     "data": {
      "text/plain": [
       "0    56863\n",
       "1      492\n",
       "Name: Class, dtype: int64"
      ]
     },
     "execution_count": 42,
     "metadata": {},
     "output_type": "execute_result"
    }
   ],
   "source": [
    "df.Class.value_counts()"
   ]
  },
  {
   "cell_type": "code",
   "execution_count": 43,
   "id": "e71e4d99",
   "metadata": {
    "scrolled": true
   },
   "outputs": [
    {
     "data": {
      "text/plain": [
       "<AxesSubplot:>"
      ]
     },
     "execution_count": 43,
     "metadata": {},
     "output_type": "execute_result"
    },
    {
     "data": {
      "image/png": "[encoded data removed]",
      "text/plain": [
       "<Figure size 432x288 with 1 Axes>"
      ]
     },
     "metadata": {
      "needs_background": "light"
     },
     "output_type": "display_data"
    }
   ],
   "source": [
    "df.Class.value_counts().plot.bar()"
   ]
  },
  {
   "cell_type": "markdown",
   "id": "a5b8fa6f",
   "metadata": {},
   "source": [
    "This shows a complete imbalance in classes."
   ]
  },
  {
   "cell_type": "code",
   "execution_count": 44,
   "id": "07ae070b",
   "metadata": {},
   "outputs": [
    {
     "data": {
      "text/plain": [
       "<seaborn.axisgrid.FacetGrid at 0x1c1e4802850>"
      ]
     },
     "execution_count": 44,
     "metadata": {},
     "output_type": "execute_result"
    },
    {
     "data": {
      "image/png": "[encoded data removed]",
      "text/plain": [
       "<Figure size 402.375x360 with 1 Axes>"
      ]
     },
     "metadata": {
      "needs_background": "light"
     },
     "output_type": "display_data"
    }
   ],
   "source": [
    "#PCA is performed for visualization\n",
    "from sklearn.decomposition import PCA\n",
    "pca= PCA(n_components=2)\n",
    "creditcard_2d= pd.DataFrame(pca.fit_transform(df.iloc[:,0:30]))\n",
    "creditcard_2d= pd.concat([creditcard_2d, df['Class']], axis=1)\n",
    "creditcard_2d.columns= ['x', 'y', 'Class']\n",
    "sns.lmplot(x='x', y='y', data=creditcard_2d, fit_reg=False, hue='Class')"
   ]
  },
  {
   "cell_type": "code",
   "execution_count": 45,
   "id": "9c881934",
   "metadata": {},
   "outputs": [
    {
     "data": {
      "text/html": [
       "<div>\n",
       "<style scoped>\n",
       "    .dataframe tbody tr th:only-of-type {\n",
       "        vertical-align: middle;\n",
       "    }\n",
       "\n",
       "    .dataframe tbody tr th {\n",
       "        vertical-align: top;\n",
       "    }\n",
       "\n",
       "    .dataframe thead th {\n",
       "        text-align: right;\n",
       "    }\n",
       "</style>\n",
       "<table border=\"1\" class=\"dataframe\">\n",
       "  <thead>\n",
       "    <tr style=\"text-align: right;\">\n",
       "      <th></th>\n",
       "      <th>Time</th>\n",
       "      <th>V1</th>\n",
       "      <th>V2</th>\n",
       "      <th>V3</th>\n",
       "      <th>V4</th>\n",
       "      <th>V5</th>\n",
       "      <th>V6</th>\n",
       "      <th>V7</th>\n",
       "      <th>V8</th>\n",
       "      <th>V9</th>\n",
       "      <th>...</th>\n",
       "      <th>V21</th>\n",
       "      <th>V22</th>\n",
       "      <th>V23</th>\n",
       "      <th>V24</th>\n",
       "      <th>V25</th>\n",
       "      <th>V26</th>\n",
       "      <th>V27</th>\n",
       "      <th>V28</th>\n",
       "      <th>Amount</th>\n",
       "      <th>Class</th>\n",
       "    </tr>\n",
       "  </thead>\n",
       "  <tbody>\n",
       "    <tr>\n",
       "      <th>count</th>\n",
       "      <td>57355.000000</td>\n",
       "      <td>57355.000000</td>\n",
       "      <td>57355.000000</td>\n",
       "      <td>57355.000000</td>\n",
       "      <td>57355.000000</td>\n",
       "      <td>57355.000000</td>\n",
       "      <td>57355.000000</td>\n",
       "      <td>57355.000000</td>\n",
       "      <td>57355.000000</td>\n",
       "      <td>57355.000000</td>\n",
       "      <td>...</td>\n",
       "      <td>57355.000000</td>\n",
       "      <td>57355.000000</td>\n",
       "      <td>57355.000000</td>\n",
       "      <td>57355.000000</td>\n",
       "      <td>57355.000000</td>\n",
       "      <td>57355.000000</td>\n",
       "      <td>57355.000000</td>\n",
       "      <td>57355.000000</td>\n",
       "      <td>57355.000000</td>\n",
       "      <td>57355.000000</td>\n",
       "    </tr>\n",
       "    <tr>\n",
       "      <th>mean</th>\n",
       "      <td>94577.357074</td>\n",
       "      <td>-0.029092</td>\n",
       "      <td>0.030156</td>\n",
       "      <td>-0.055749</td>\n",
       "      <td>0.035521</td>\n",
       "      <td>-0.022664</td>\n",
       "      <td>-0.006869</td>\n",
       "      <td>-0.032448</td>\n",
       "      <td>0.006142</td>\n",
       "      <td>-0.017667</td>\n",
       "      <td>...</td>\n",
       "      <td>0.005569</td>\n",
       "      <td>-0.000265</td>\n",
       "      <td>0.003273</td>\n",
       "      <td>0.001159</td>\n",
       "      <td>0.005003</td>\n",
       "      <td>0.003133</td>\n",
       "      <td>0.000226</td>\n",
       "      <td>-0.000625</td>\n",
       "      <td>88.825575</td>\n",
       "      <td>0.008578</td>\n",
       "    </tr>\n",
       "    <tr>\n",
       "      <th>std</th>\n",
       "      <td>47505.713234</td>\n",
       "      <td>2.061391</td>\n",
       "      <td>1.711228</td>\n",
       "      <td>1.733364</td>\n",
       "      <td>1.484621</td>\n",
       "      <td>1.508300</td>\n",
       "      <td>1.361819</td>\n",
       "      <td>1.504317</td>\n",
       "      <td>1.334058</td>\n",
       "      <td>1.131679</td>\n",
       "      <td>...</td>\n",
       "      <td>0.813950</td>\n",
       "      <td>0.734597</td>\n",
       "      <td>0.625238</td>\n",
       "      <td>0.604653</td>\n",
       "      <td>0.519852</td>\n",
       "      <td>0.482496</td>\n",
       "      <td>0.433713</td>\n",
       "      <td>0.323980</td>\n",
       "      <td>279.496913</td>\n",
       "      <td>0.092221</td>\n",
       "    </tr>\n",
       "    <tr>\n",
       "      <th>min</th>\n",
       "      <td>2.000000</td>\n",
       "      <td>-36.802320</td>\n",
       "      <td>-63.344698</td>\n",
       "      <td>-48.325589</td>\n",
       "      <td>-5.519697</td>\n",
       "      <td>-113.743307</td>\n",
       "      <td>-19.996349</td>\n",
       "      <td>-43.557242</td>\n",
       "      <td>-73.216718</td>\n",
       "      <td>-13.434066</td>\n",
       "      <td>...</td>\n",
       "      <td>-34.830382</td>\n",
       "      <td>-10.933144</td>\n",
       "      <td>-32.828995</td>\n",
       "      <td>-2.822384</td>\n",
       "      <td>-8.696627</td>\n",
       "      <td>-2.534330</td>\n",
       "      <td>-8.878665</td>\n",
       "      <td>-15.430084</td>\n",
       "      <td>0.000000</td>\n",
       "      <td>0.000000</td>\n",
       "    </tr>\n",
       "    <tr>\n",
       "      <th>25%</th>\n",
       "      <td>53943.500000</td>\n",
       "      <td>-0.927615</td>\n",
       "      <td>-0.588747</td>\n",
       "      <td>-0.922554</td>\n",
       "      <td>-0.839400</td>\n",
       "      <td>-0.692157</td>\n",
       "      <td>-0.774796</td>\n",
       "      <td>-0.558211</td>\n",
       "      <td>-0.207145</td>\n",
       "      <td>-0.651869</td>\n",
       "      <td>...</td>\n",
       "      <td>-0.226932</td>\n",
       "      <td>-0.541278</td>\n",
       "      <td>-0.161812</td>\n",
       "      <td>-0.354648</td>\n",
       "      <td>-0.312164</td>\n",
       "      <td>-0.322536</td>\n",
       "      <td>-0.070642</td>\n",
       "      <td>-0.052695</td>\n",
       "      <td>5.475000</td>\n",
       "      <td>0.000000</td>\n",
       "    </tr>\n",
       "    <tr>\n",
       "      <th>50%</th>\n",
       "      <td>84641.000000</td>\n",
       "      <td>0.015980</td>\n",
       "      <td>0.071801</td>\n",
       "      <td>0.168619</td>\n",
       "      <td>-0.005637</td>\n",
       "      <td>-0.055913</td>\n",
       "      <td>-0.276163</td>\n",
       "      <td>0.035797</td>\n",
       "      <td>0.024380</td>\n",
       "      <td>-0.053373</td>\n",
       "      <td>...</td>\n",
       "      <td>-0.028379</td>\n",
       "      <td>0.004681</td>\n",
       "      <td>-0.011439</td>\n",
       "      <td>0.041286</td>\n",
       "      <td>0.021494</td>\n",
       "      <td>-0.049135</td>\n",
       "      <td>0.000859</td>\n",
       "      <td>0.011169</td>\n",
       "      <td>21.990000</td>\n",
       "      <td>0.000000</td>\n",
       "    </tr>\n",
       "    <tr>\n",
       "      <th>75%</th>\n",
       "      <td>139140.000000</td>\n",
       "      <td>1.314129</td>\n",
       "      <td>0.815413</td>\n",
       "      <td>1.019384</td>\n",
       "      <td>0.764271</td>\n",
       "      <td>0.607021</td>\n",
       "      <td>0.387408</td>\n",
       "      <td>0.562758</td>\n",
       "      <td>0.333358</td>\n",
       "      <td>0.599522</td>\n",
       "      <td>...</td>\n",
       "      <td>0.190245</td>\n",
       "      <td>0.529286</td>\n",
       "      <td>0.147282</td>\n",
       "      <td>0.439244</td>\n",
       "      <td>0.352590</td>\n",
       "      <td>0.243882</td>\n",
       "      <td>0.091355</td>\n",
       "      <td>0.078500</td>\n",
       "      <td>76.900000</td>\n",
       "      <td>0.000000</td>\n",
       "    </tr>\n",
       "    <tr>\n",
       "      <th>max</th>\n",
       "      <td>172777.000000</td>\n",
       "      <td>2.454930</td>\n",
       "      <td>22.057729</td>\n",
       "      <td>3.940337</td>\n",
       "      <td>16.715537</td>\n",
       "      <td>28.762671</td>\n",
       "      <td>73.301626</td>\n",
       "      <td>120.589494</td>\n",
       "      <td>20.007208</td>\n",
       "      <td>10.348407</td>\n",
       "      <td>...</td>\n",
       "      <td>27.202839</td>\n",
       "      <td>10.503090</td>\n",
       "      <td>22.528412</td>\n",
       "      <td>4.584549</td>\n",
       "      <td>5.826159</td>\n",
       "      <td>3.517346</td>\n",
       "      <td>31.612198</td>\n",
       "      <td>15.866721</td>\n",
       "      <td>25691.160000</td>\n",
       "      <td>1.000000</td>\n",
       "    </tr>\n",
       "  </tbody>\n",
       "</table>\n",
       "<p>8 rows × 31 columns</p>\n",
       "</div>"
      ],
      "text/plain": [
       "                Time            V1            V2            V3            V4  \\\n",
       "count   57355.000000  57355.000000  57355.000000  57355.000000  57355.000000   \n",
       "mean    94577.357074     -0.029092      0.030156     -0.055749      0.035521   \n",
       "std     47505.713234      2.061391      1.711228      1.733364      1.484621   \n",
       "min         2.000000    -36.802320    -63.344698    -48.325589     -5.519697   \n",
       "25%     53943.500000     -0.927615     -0.588747     -0.922554     -0.839400   \n",
       "50%     84641.000000      0.015980      0.071801      0.168619     -0.005637   \n",
       "75%    139140.000000      1.314129      0.815413      1.019384      0.764271   \n",
       "max    172777.000000      2.454930     22.057729      3.940337     16.715537   \n",
       "\n",
       "                 V5            V6            V7            V8            V9  \\\n",
       "count  57355.000000  57355.000000  57355.000000  57355.000000  57355.000000   \n",
       "mean      -0.022664     -0.006869     -0.032448      0.006142     -0.017667   \n",
       "std        1.508300      1.361819      1.504317      1.334058      1.131679   \n",
       "min     -113.743307    -19.996349    -43.557242    -73.216718    -13.434066   \n",
       "25%       -0.692157     -0.774796     -0.558211     -0.207145     -0.651869   \n",
       "50%       -0.055913     -0.276163      0.035797      0.024380     -0.053373   \n",
       "75%        0.607021      0.387408      0.562758      0.333358      0.599522   \n",
       "max       28.762671     73.301626    120.589494     20.007208     10.348407   \n",
       "\n",
       "       ...           V21           V22           V23           V24  \\\n",
       "count  ...  57355.000000  57355.000000  57355.000000  57355.000000   \n",
       "mean   ...      0.005569     -0.000265      0.003273      0.001159   \n",
       "std    ...      0.813950      0.734597      0.625238      0.604653   \n",
       "min    ...    -34.830382    -10.933144    -32.828995     -2.822384   \n",
       "25%    ...     -0.226932     -0.541278     -0.161812     -0.354648   \n",
       "50%    ...     -0.028379      0.004681     -0.011439      0.041286   \n",
       "75%    ...      0.190245      0.529286      0.147282      0.439244   \n",
       "max    ...     27.202839     10.503090     22.528412      4.584549   \n",
       "\n",
       "                V25           V26           V27           V28        Amount  \\\n",
       "count  57355.000000  57355.000000  57355.000000  57355.000000  57355.000000   \n",
       "mean       0.005003      0.003133      0.000226     -0.000625     88.825575   \n",
       "std        0.519852      0.482496      0.433713      0.323980    279.496913   \n",
       "min       -8.696627     -2.534330     -8.878665    -15.430084      0.000000   \n",
       "25%       -0.312164     -0.322536     -0.070642     -0.052695      5.475000   \n",
       "50%        0.021494     -0.049135      0.000859      0.011169     21.990000   \n",
       "75%        0.352590      0.243882      0.091355      0.078500     76.900000   \n",
       "max        5.826159      3.517346     31.612198     15.866721  25691.160000   \n",
       "\n",
       "              Class  \n",
       "count  57355.000000  \n",
       "mean       0.008578  \n",
       "std        0.092221  \n",
       "min        0.000000  \n",
       "25%        0.000000  \n",
       "50%        0.000000  \n",
       "75%        0.000000  \n",
       "max        1.000000  \n",
       "\n",
       "[8 rows x 31 columns]"
      ]
     },
     "execution_count": 45,
     "metadata": {},
     "output_type": "execute_result"
    }
   ],
   "source": [
    "df.describe()"
   ]
  },
  {
   "cell_type": "code",
   "execution_count": 46,
   "id": "42c8f436",
   "metadata": {
    "scrolled": true
   },
   "outputs": [
    {
     "data": {
      "image/png": "[encoded data removed]",
      "text/plain": [
       "<Figure size 864x288 with 2 Axes>"
      ]
     },
     "metadata": {
      "needs_background": "light"
     },
     "output_type": "display_data"
    }
   ],
   "source": [
    "#Histrogram for feature Time\n",
    "f, (ax1, ax2) = plt.subplots(2, 1, sharex=True, figsize=(12,4))\n",
    "\n",
    "ax1.hist(df[\"Time\"][df[\"Class\"] == 1], bins = 50)\n",
    "ax1.set_title('Fraudulent')\n",
    "\n",
    "ax2.hist(df[\"Time\"][df[\"Class\"] == 0], bins = 50)\n",
    "ax2.set_title('Genuine')\n",
    "\n",
    "plt.xlabel('Seconds after transaction number zero')\n",
    "plt.ylabel('Number of Transactions')\n",
    "plt.show()"
   ]
  },
  {
   "cell_type": "markdown",
   "id": "4130a333",
   "metadata": {},
   "source": [
    "Time feature does not provide any useful information as the time when the first transaction was initiated is not given. Thus, we'll drop this feature."
   ]
  },
  {
   "cell_type": "code",
   "execution_count": 47,
   "id": "4c0de093",
   "metadata": {},
   "outputs": [],
   "source": [
    "creditcard_data = df.drop(\"Time\", axis = 1)"
   ]
  },
  {
   "cell_type": "markdown",
   "id": "c7904f1b",
   "metadata": {},
   "source": [
    "Descriptive statistics for Genuine Transactions"
   ]
  },
  {
   "cell_type": "code",
   "execution_count": 48,
   "id": "f78f38e8",
   "metadata": {},
   "outputs": [
    {
     "name": "stdout",
     "output_type": "stream",
     "text": [
      "Genuine Transactions\n"
     ]
    },
    {
     "data": {
      "text/plain": [
       "count    56863.000000\n",
       "mean        88.536709\n",
       "std        279.670869\n",
       "min          0.000000\n",
       "25%          5.540000\n",
       "50%         22.000000\n",
       "75%         76.230000\n",
       "max      25691.160000\n",
       "Name: Amount, dtype: float64"
      ]
     },
     "execution_count": 48,
     "metadata": {},
     "output_type": "execute_result"
    }
   ],
   "source": [
    "print(\"Genuine Transactions\")\n",
    "creditcard_data['Amount'][creditcard_data['Class']==0]. describe()\n"
   ]
  },
  {
   "cell_type": "markdown",
   "id": "83d1915d",
   "metadata": {},
   "source": [
    "Descriptive statistics for Fraudulent Transactions"
   ]
  },
  {
   "cell_type": "code",
   "execution_count": 49,
   "id": "3faa1f2a",
   "metadata": {
    "scrolled": true
   },
   "outputs": [
    {
     "name": "stdout",
     "output_type": "stream",
     "text": [
      "Fraudulent Transactions\n"
     ]
    },
    {
     "data": {
      "text/plain": [
       "count     492.000000\n",
       "mean      122.211321\n",
       "std       256.683288\n",
       "min         0.000000\n",
       "25%         1.000000\n",
       "50%         9.250000\n",
       "75%       105.890000\n",
       "max      2125.870000\n",
       "Name: Amount, dtype: float64"
      ]
     },
     "execution_count": 49,
     "metadata": {},
     "output_type": "execute_result"
    }
   ],
   "source": [
    "print(\"Fraudulent Transactions\")\n",
    "creditcard_data['Amount'][creditcard_data['Class']==1]. describe()"
   ]
  },
  {
   "cell_type": "code",
   "execution_count": 50,
   "id": "df357bfe",
   "metadata": {},
   "outputs": [
    {
     "data": {
      "text/plain": [
       "V1            4.249332\n",
       "V2            2.928302\n",
       "V3            3.004550\n",
       "V4            2.204100\n",
       "V5            2.274969\n",
       "V6            1.854551\n",
       "V7            2.262969\n",
       "V8            1.779711\n",
       "V9            1.280698\n",
       "V10           1.561217\n",
       "V11           1.176319\n",
       "V12           1.404513\n",
       "V13           0.999567\n",
       "V14           1.375218\n",
       "V15           0.835668\n",
       "V16           0.985969\n",
       "V17           1.359197\n",
       "V18           0.788821\n",
       "V19           0.672169\n",
       "V20           0.676008\n",
       "V21           0.662515\n",
       "V22           0.539633\n",
       "V23           0.390922\n",
       "V24           0.365605\n",
       "V25           0.270246\n",
       "V26           0.232803\n",
       "V27           0.188107\n",
       "V28           0.104963\n",
       "Amount    78118.524128\n",
       "Class         0.008505\n",
       "dtype: float64"
      ]
     },
     "execution_count": 50,
     "metadata": {},
     "output_type": "execute_result"
    }
   ],
   "source": [
    "#Variance\n",
    "creditcard_data.var()"
   ]
  },
  {
   "cell_type": "markdown",
   "id": "9035653a",
   "metadata": {},
   "source": [
    "Robust Scaler to scale the feature 'Amount'. All other 'V' columns are already scaled as they've undergone PCA transformation."
   ]
  },
  {
   "cell_type": "code",
   "execution_count": 51,
   "id": "f0b2f747",
   "metadata": {},
   "outputs": [
    {
     "data": {
      "text/html": [
       "<div>\n",
       "<style scoped>\n",
       "    .dataframe tbody tr th:only-of-type {\n",
       "        vertical-align: middle;\n",
       "    }\n",
       "\n",
       "    .dataframe tbody tr th {\n",
       "        vertical-align: top;\n",
       "    }\n",
       "\n",
       "    .dataframe thead th {\n",
       "        text-align: right;\n",
       "    }\n",
       "</style>\n",
       "<table border=\"1\" class=\"dataframe\">\n",
       "  <thead>\n",
       "    <tr style=\"text-align: right;\">\n",
       "      <th></th>\n",
       "      <th>V1</th>\n",
       "      <th>V2</th>\n",
       "      <th>V3</th>\n",
       "      <th>V4</th>\n",
       "      <th>V5</th>\n",
       "      <th>V6</th>\n",
       "      <th>V7</th>\n",
       "      <th>V8</th>\n",
       "      <th>V9</th>\n",
       "      <th>V10</th>\n",
       "      <th>...</th>\n",
       "      <th>V22</th>\n",
       "      <th>V23</th>\n",
       "      <th>V24</th>\n",
       "      <th>V25</th>\n",
       "      <th>V26</th>\n",
       "      <th>V27</th>\n",
       "      <th>V28</th>\n",
       "      <th>Amount</th>\n",
       "      <th>Class</th>\n",
       "      <th>Std_Amount</th>\n",
       "    </tr>\n",
       "  </thead>\n",
       "  <tbody>\n",
       "    <tr>\n",
       "      <th>0</th>\n",
       "      <td>-1.158233</td>\n",
       "      <td>0.877737</td>\n",
       "      <td>1.548718</td>\n",
       "      <td>0.403034</td>\n",
       "      <td>-0.407193</td>\n",
       "      <td>0.095921</td>\n",
       "      <td>0.592941</td>\n",
       "      <td>-0.270533</td>\n",
       "      <td>0.817739</td>\n",
       "      <td>0.753074</td>\n",
       "      <td>...</td>\n",
       "      <td>0.798278</td>\n",
       "      <td>-0.137458</td>\n",
       "      <td>0.141267</td>\n",
       "      <td>-0.206010</td>\n",
       "      <td>0.502292</td>\n",
       "      <td>0.219422</td>\n",
       "      <td>0.215153</td>\n",
       "      <td>69.99</td>\n",
       "      <td>0</td>\n",
       "      <td>0.672034</td>\n",
       "    </tr>\n",
       "    <tr>\n",
       "      <th>1</th>\n",
       "      <td>-0.425966</td>\n",
       "      <td>0.960523</td>\n",
       "      <td>1.141109</td>\n",
       "      <td>-0.168252</td>\n",
       "      <td>0.420987</td>\n",
       "      <td>-0.029728</td>\n",
       "      <td>0.476201</td>\n",
       "      <td>0.260314</td>\n",
       "      <td>-0.568671</td>\n",
       "      <td>-0.371407</td>\n",
       "      <td>...</td>\n",
       "      <td>-0.559825</td>\n",
       "      <td>-0.026398</td>\n",
       "      <td>-0.371427</td>\n",
       "      <td>-0.232794</td>\n",
       "      <td>0.105915</td>\n",
       "      <td>0.253844</td>\n",
       "      <td>0.081080</td>\n",
       "      <td>3.67</td>\n",
       "      <td>0</td>\n",
       "      <td>-0.256493</td>\n",
       "    </tr>\n",
       "    <tr>\n",
       "      <th>2</th>\n",
       "      <td>-0.644269</td>\n",
       "      <td>1.417964</td>\n",
       "      <td>1.074380</td>\n",
       "      <td>-0.492199</td>\n",
       "      <td>0.948934</td>\n",
       "      <td>0.428118</td>\n",
       "      <td>1.120631</td>\n",
       "      <td>-3.807864</td>\n",
       "      <td>0.615375</td>\n",
       "      <td>1.249376</td>\n",
       "      <td>...</td>\n",
       "      <td>-1.015455</td>\n",
       "      <td>0.057504</td>\n",
       "      <td>-0.649709</td>\n",
       "      <td>-0.415267</td>\n",
       "      <td>-0.051634</td>\n",
       "      <td>-1.206921</td>\n",
       "      <td>-1.085339</td>\n",
       "      <td>40.80</td>\n",
       "      <td>0</td>\n",
       "      <td>0.263353</td>\n",
       "    </tr>\n",
       "    <tr>\n",
       "      <th>3</th>\n",
       "      <td>1.069374</td>\n",
       "      <td>0.287722</td>\n",
       "      <td>0.828613</td>\n",
       "      <td>2.712520</td>\n",
       "      <td>-0.178398</td>\n",
       "      <td>0.337544</td>\n",
       "      <td>-0.096717</td>\n",
       "      <td>0.115982</td>\n",
       "      <td>-0.221083</td>\n",
       "      <td>0.460230</td>\n",
       "      <td>...</td>\n",
       "      <td>0.074412</td>\n",
       "      <td>-0.071407</td>\n",
       "      <td>0.104744</td>\n",
       "      <td>0.548265</td>\n",
       "      <td>0.104094</td>\n",
       "      <td>0.021491</td>\n",
       "      <td>0.021293</td>\n",
       "      <td>27.50</td>\n",
       "      <td>0</td>\n",
       "      <td>0.077144</td>\n",
       "    </tr>\n",
       "    <tr>\n",
       "      <th>4</th>\n",
       "      <td>-0.752417</td>\n",
       "      <td>0.345485</td>\n",
       "      <td>2.057323</td>\n",
       "      <td>-1.468643</td>\n",
       "      <td>-1.158394</td>\n",
       "      <td>-0.077850</td>\n",
       "      <td>-0.608581</td>\n",
       "      <td>0.003603</td>\n",
       "      <td>-0.436167</td>\n",
       "      <td>0.747731</td>\n",
       "      <td>...</td>\n",
       "      <td>1.353650</td>\n",
       "      <td>-0.256573</td>\n",
       "      <td>-0.065084</td>\n",
       "      <td>-0.039124</td>\n",
       "      <td>-0.087086</td>\n",
       "      <td>-0.180998</td>\n",
       "      <td>0.129394</td>\n",
       "      <td>15.99</td>\n",
       "      <td>0</td>\n",
       "      <td>-0.084004</td>\n",
       "    </tr>\n",
       "  </tbody>\n",
       "</table>\n",
       "<p>5 rows × 31 columns</p>\n",
       "</div>"
      ],
      "text/plain": [
       "         V1        V2        V3        V4        V5        V6        V7  \\\n",
       "0 -1.158233  0.877737  1.548718  0.403034 -0.407193  0.095921  0.592941   \n",
       "1 -0.425966  0.960523  1.141109 -0.168252  0.420987 -0.029728  0.476201   \n",
       "2 -0.644269  1.417964  1.074380 -0.492199  0.948934  0.428118  1.120631   \n",
       "3  1.069374  0.287722  0.828613  2.712520 -0.178398  0.337544 -0.096717   \n",
       "4 -0.752417  0.345485  2.057323 -1.468643 -1.158394 -0.077850 -0.608581   \n",
       "\n",
       "         V8        V9       V10  ...       V22       V23       V24       V25  \\\n",
       "0 -0.270533  0.817739  0.753074  ...  0.798278 -0.137458  0.141267 -0.206010   \n",
       "1  0.260314 -0.568671 -0.371407  ... -0.559825 -0.026398 -0.371427 -0.232794   \n",
       "2 -3.807864  0.615375  1.249376  ... -1.015455  0.057504 -0.649709 -0.415267   \n",
       "3  0.115982 -0.221083  0.460230  ...  0.074412 -0.071407  0.104744  0.548265   \n",
       "4  0.003603 -0.436167  0.747731  ...  1.353650 -0.256573 -0.065084 -0.039124   \n",
       "\n",
       "        V26       V27       V28  Amount  Class  Std_Amount  \n",
       "0  0.502292  0.219422  0.215153   69.99      0    0.672034  \n",
       "1  0.105915  0.253844  0.081080    3.67      0   -0.256493  \n",
       "2 -0.051634 -1.206921 -1.085339   40.80      0    0.263353  \n",
       "3  0.104094  0.021491  0.021293   27.50      0    0.077144  \n",
       "4 -0.087086 -0.180998  0.129394   15.99      0   -0.084004  \n",
       "\n",
       "[5 rows x 31 columns]"
      ]
     },
     "execution_count": 51,
     "metadata": {},
     "output_type": "execute_result"
    }
   ],
   "source": [
    "from sklearn.preprocessing import RobustScaler\n",
    "Rob_scaler=RobustScaler() #Robust to outliers\n",
    "creditcard_data['Std_Amount'] = Rob_scaler.fit_transform(creditcard_data['Amount'].values.reshape(-1, 1))\n",
    "creditcard_data.head()"
   ]
  },
  {
   "cell_type": "code",
   "execution_count": 52,
   "id": "93f80507",
   "metadata": {},
   "outputs": [
    {
     "data": {
      "text/html": [
       "<div>\n",
       "<style scoped>\n",
       "    .dataframe tbody tr th:only-of-type {\n",
       "        vertical-align: middle;\n",
       "    }\n",
       "\n",
       "    .dataframe tbody tr th {\n",
       "        vertical-align: top;\n",
       "    }\n",
       "\n",
       "    .dataframe thead th {\n",
       "        text-align: right;\n",
       "    }\n",
       "</style>\n",
       "<table border=\"1\" class=\"dataframe\">\n",
       "  <thead>\n",
       "    <tr style=\"text-align: right;\">\n",
       "      <th></th>\n",
       "      <th>Std_Amount</th>\n",
       "      <th>V1</th>\n",
       "      <th>V2</th>\n",
       "      <th>V3</th>\n",
       "      <th>V4</th>\n",
       "      <th>V5</th>\n",
       "      <th>V6</th>\n",
       "      <th>V7</th>\n",
       "      <th>V8</th>\n",
       "      <th>V9</th>\n",
       "      <th>...</th>\n",
       "      <th>V20</th>\n",
       "      <th>V21</th>\n",
       "      <th>V22</th>\n",
       "      <th>V23</th>\n",
       "      <th>V24</th>\n",
       "      <th>V25</th>\n",
       "      <th>V26</th>\n",
       "      <th>V27</th>\n",
       "      <th>V28</th>\n",
       "      <th>Class</th>\n",
       "    </tr>\n",
       "  </thead>\n",
       "  <tbody>\n",
       "    <tr>\n",
       "      <th>0</th>\n",
       "      <td>0.672034</td>\n",
       "      <td>-1.158233</td>\n",
       "      <td>0.877737</td>\n",
       "      <td>1.548718</td>\n",
       "      <td>0.403034</td>\n",
       "      <td>-0.407193</td>\n",
       "      <td>0.095921</td>\n",
       "      <td>0.592941</td>\n",
       "      <td>-0.270533</td>\n",
       "      <td>0.817739</td>\n",
       "      <td>...</td>\n",
       "      <td>0.408542</td>\n",
       "      <td>-0.009431</td>\n",
       "      <td>0.798278</td>\n",
       "      <td>-0.137458</td>\n",
       "      <td>0.141267</td>\n",
       "      <td>-0.206010</td>\n",
       "      <td>0.502292</td>\n",
       "      <td>0.219422</td>\n",
       "      <td>0.215153</td>\n",
       "      <td>0</td>\n",
       "    </tr>\n",
       "    <tr>\n",
       "      <th>1</th>\n",
       "      <td>-0.256493</td>\n",
       "      <td>-0.425966</td>\n",
       "      <td>0.960523</td>\n",
       "      <td>1.141109</td>\n",
       "      <td>-0.168252</td>\n",
       "      <td>0.420987</td>\n",
       "      <td>-0.029728</td>\n",
       "      <td>0.476201</td>\n",
       "      <td>0.260314</td>\n",
       "      <td>-0.568671</td>\n",
       "      <td>...</td>\n",
       "      <td>0.084968</td>\n",
       "      <td>-0.208254</td>\n",
       "      <td>-0.559825</td>\n",
       "      <td>-0.026398</td>\n",
       "      <td>-0.371427</td>\n",
       "      <td>-0.232794</td>\n",
       "      <td>0.105915</td>\n",
       "      <td>0.253844</td>\n",
       "      <td>0.081080</td>\n",
       "      <td>0</td>\n",
       "    </tr>\n",
       "    <tr>\n",
       "      <th>2</th>\n",
       "      <td>0.263353</td>\n",
       "      <td>-0.644269</td>\n",
       "      <td>1.417964</td>\n",
       "      <td>1.074380</td>\n",
       "      <td>-0.492199</td>\n",
       "      <td>0.948934</td>\n",
       "      <td>0.428118</td>\n",
       "      <td>1.120631</td>\n",
       "      <td>-3.807864</td>\n",
       "      <td>0.615375</td>\n",
       "      <td>...</td>\n",
       "      <td>-0.156742</td>\n",
       "      <td>1.943465</td>\n",
       "      <td>-1.015455</td>\n",
       "      <td>0.057504</td>\n",
       "      <td>-0.649709</td>\n",
       "      <td>-0.415267</td>\n",
       "      <td>-0.051634</td>\n",
       "      <td>-1.206921</td>\n",
       "      <td>-1.085339</td>\n",
       "      <td>0</td>\n",
       "    </tr>\n",
       "    <tr>\n",
       "      <th>3</th>\n",
       "      <td>0.077144</td>\n",
       "      <td>1.069374</td>\n",
       "      <td>0.287722</td>\n",
       "      <td>0.828613</td>\n",
       "      <td>2.712520</td>\n",
       "      <td>-0.178398</td>\n",
       "      <td>0.337544</td>\n",
       "      <td>-0.096717</td>\n",
       "      <td>0.115982</td>\n",
       "      <td>-0.221083</td>\n",
       "      <td>...</td>\n",
       "      <td>-0.153197</td>\n",
       "      <td>-0.036876</td>\n",
       "      <td>0.074412</td>\n",
       "      <td>-0.071407</td>\n",
       "      <td>0.104744</td>\n",
       "      <td>0.548265</td>\n",
       "      <td>0.104094</td>\n",
       "      <td>0.021491</td>\n",
       "      <td>0.021293</td>\n",
       "      <td>0</td>\n",
       "    </tr>\n",
       "    <tr>\n",
       "      <th>4</th>\n",
       "      <td>-0.084004</td>\n",
       "      <td>-0.752417</td>\n",
       "      <td>0.345485</td>\n",
       "      <td>2.057323</td>\n",
       "      <td>-1.468643</td>\n",
       "      <td>-1.158394</td>\n",
       "      <td>-0.077850</td>\n",
       "      <td>-0.608581</td>\n",
       "      <td>0.003603</td>\n",
       "      <td>-0.436167</td>\n",
       "      <td>...</td>\n",
       "      <td>0.263451</td>\n",
       "      <td>0.499625</td>\n",
       "      <td>1.353650</td>\n",
       "      <td>-0.256573</td>\n",
       "      <td>-0.065084</td>\n",
       "      <td>-0.039124</td>\n",
       "      <td>-0.087086</td>\n",
       "      <td>-0.180998</td>\n",
       "      <td>0.129394</td>\n",
       "      <td>0</td>\n",
       "    </tr>\n",
       "  </tbody>\n",
       "</table>\n",
       "<p>5 rows × 30 columns</p>\n",
       "</div>"
      ],
      "text/plain": [
       "   Std_Amount        V1        V2        V3        V4        V5        V6  \\\n",
       "0    0.672034 -1.158233  0.877737  1.548718  0.403034 -0.407193  0.095921   \n",
       "1   -0.256493 -0.425966  0.960523  1.141109 -0.168252  0.420987 -0.029728   \n",
       "2    0.263353 -0.644269  1.417964  1.074380 -0.492199  0.948934  0.428118   \n",
       "3    0.077144  1.069374  0.287722  0.828613  2.712520 -0.178398  0.337544   \n",
       "4   -0.084004 -0.752417  0.345485  2.057323 -1.468643 -1.158394 -0.077850   \n",
       "\n",
       "         V7        V8        V9  ...       V20       V21       V22       V23  \\\n",
       "0  0.592941 -0.270533  0.817739  ...  0.408542 -0.009431  0.798278 -0.137458   \n",
       "1  0.476201  0.260314 -0.568671  ...  0.084968 -0.208254 -0.559825 -0.026398   \n",
       "2  1.120631 -3.807864  0.615375  ... -0.156742  1.943465 -1.015455  0.057504   \n",
       "3 -0.096717  0.115982 -0.221083  ... -0.153197 -0.036876  0.074412 -0.071407   \n",
       "4 -0.608581  0.003603 -0.436167  ...  0.263451  0.499625  1.353650 -0.256573   \n",
       "\n",
       "        V24       V25       V26       V27       V28  Class  \n",
       "0  0.141267 -0.206010  0.502292  0.219422  0.215153      0  \n",
       "1 -0.371427 -0.232794  0.105915  0.253844  0.081080      0  \n",
       "2 -0.649709 -0.415267 -0.051634 -1.206921 -1.085339      0  \n",
       "3  0.104744  0.548265  0.104094  0.021491  0.021293      0  \n",
       "4 -0.065084 -0.039124 -0.087086 -0.180998  0.129394      0  \n",
       "\n",
       "[5 rows x 30 columns]"
      ]
     },
     "execution_count": 52,
     "metadata": {},
     "output_type": "execute_result"
    }
   ],
   "source": [
    "#dropping Amount and moveing Std_Amount at index '0'\n",
    "creditcard_data = creditcard_data.drop('Amount',axis=1)\n",
    "\n",
    "Std_Amount = creditcard_data['Std_Amount']\n",
    "creditcard_data.drop('Std_Amount', axis=1, inplace=True)\n",
    "creditcard_data.insert(0, 'Std_Amount', Std_Amount)\n",
    "creditcard_data.head()"
   ]
  },
  {
   "cell_type": "markdown",
   "id": "8295698e",
   "metadata": {},
   "source": [
    "### Splitting Data"
   ]
  },
  {
   "cell_type": "code",
   "execution_count": 53,
   "id": "762b157e",
   "metadata": {},
   "outputs": [
    {
     "name": "stdout",
     "output_type": "stream",
     "text": [
      "Train: [39373 38008  2461 ... 22816 53547 10515] Test: [21887  5012 10570 ... 10851 27997 48334]\n",
      "Train: [33790 41761 34229 ... 28198 29880 52162] Test: [55765 33905 48958 ... 52057 14195 34286]\n",
      "Train: [ 4586  8864 57008 ... 31722 51042 21575] Test: [44556 25276 22757 ... 40016 23182 38114]\n",
      "Train: [30290 30118 30931 ...   993 17838 57197] Test: [ 5068 10416  3744 ...   539 48861 49331]\n",
      "Train: [ 6075 45361 37281 ...  4545 17001 47516] Test: [33502  7565 46291 ... 51573 53360 27784]\n",
      "Train: [ 6020 37624 10769 ... 37091 10703 41819] Validation: [43222 21681  4512 ... 35343 22253 36021]\n",
      "Train: [31654 36691 41449 ... 26428 15363  7088] Validation: [35014 42012 17068 ... 15788 40546 18046]\n",
      "Train: [28088 21579 12556 ... 19670 29724 31716] Validation: [31949   919 34637 ... 28387 24737 43768]\n",
      "Train: [31639 40820 24291 ... 22634 16065  1968] Validation: [41490 33239  2377 ... 40134  7978 10068]\n",
      "Train: [33797 33729 19231 ... 45538 35886 15208] Validation: [20814  8530 17438 ...  8757 34935 32979]\n"
     ]
    }
   ],
   "source": [
    "from sklearn.model_selection import StratifiedShuffleSplit\n",
    "\n",
    "X = creditcard_data.drop('Class', axis=1)\n",
    "Y = creditcard_data['Class']\n",
    "\n",
    "sss1 = StratifiedShuffleSplit(n_splits=5, test_size=0.2, random_state=42)\n",
    "\n",
    "for train_index1, test_index in sss1.split(X, Y):\n",
    "    print(\"Train:\", train_index1, \"Test:\", test_index)\n",
    "    Xtrain, Xtest = X.iloc[train_index1], X.iloc[test_index]\n",
    "    Ytrain, Ytest = Y.iloc[train_index1], Y.iloc[test_index]\n",
    "\n",
    "sss2 = StratifiedShuffleSplit(n_splits=5, test_size=0.25, random_state=42)\n",
    "\n",
    "for train_index2, val_index in sss2.split(Xtrain, Ytrain):\n",
    "    print(\"Train:\", train_index2, \"Validation:\", val_index)\n",
    "    Xtrain_final, Xval = X.iloc[train_index2], X.iloc[val_index]\n",
    "    Ytrain_final, Yval = Y.iloc[train_index2], Y.iloc[val_index]"
   ]
  },
  {
   "cell_type": "markdown",
   "id": "d1caf819",
   "metadata": {},
   "source": [
    "Checking lables after split."
   ]
  },
  {
   "cell_type": "code",
   "execution_count": 54,
   "id": "b1a160ce",
   "metadata": {
    "scrolled": true
   },
   "outputs": [
    {
     "name": "stdout",
     "output_type": "stream",
     "text": [
      "Label Distributions: \n",
      "\n",
      "[0.99087554 0.00912446]\n",
      "[0.99145672 0.00854328]\n",
      "[0.99102084 0.00897916]\n"
     ]
    }
   ],
   "source": [
    "train_unique_label, train_counts_label = np.unique(Ytrain_final, return_counts=True)\n",
    "test_unique_label, test_counts_label = np.unique(Ytest, return_counts=True)\n",
    "val_unique_label, val_counts_label = np.unique(Yval, return_counts=True)\n",
    "\n",
    "print('Label Distributions: \\n')\n",
    "print(train_counts_label/ len(Ytrain_final))\n",
    "print(test_counts_label/ len(Ytest))\n",
    "print(val_counts_label/ len(Yval))"
   ]
  },
  {
   "cell_type": "code",
   "execution_count": 55,
   "id": "f4eb2082",
   "metadata": {},
   "outputs": [
    {
     "name": "stdout",
     "output_type": "stream",
     "text": [
      "(34413, 29)\n",
      "(34413,)\n",
      "(11471, 29)\n",
      "(11471,)\n",
      "(11471, 29)\n",
      "(11471,)\n"
     ]
    }
   ],
   "source": [
    "print(Xtrain_final.shape)\n",
    "print(Ytrain_final.shape)\n",
    "print(Xtest.shape)\n",
    "print(Ytest.shape)\n",
    "print(Xval.shape)\n",
    "print(Yval.shape)"
   ]
  },
  {
   "cell_type": "markdown",
   "id": "1735dacb",
   "metadata": {},
   "source": [
    "### Using ADASYN for over sampling."
   ]
  },
  {
   "cell_type": "code",
   "execution_count": 56,
   "id": "ff9186d8",
   "metadata": {
    "scrolled": true
   },
   "outputs": [
    {
     "name": "stdout",
     "output_type": "stream",
     "text": [
      "Resampled dataset shape Counter({1: 34119, 0: 34099})\n",
      "Shape of X_adasampled: (68218, 29)\n",
      "Shape of Y_adasampled: (68218,)\n"
     ]
    }
   ],
   "source": [
    "ada = ADASYN(sampling_strategy='minority', random_state=42)\n",
    "\n",
    "X_adasampled, Y_adasampled = ada.fit_resample(Xtrain_final, Ytrain_final)\n",
    "print('Resampled dataset shape %s' % Counter(Y_adasampled))\n",
    "print('Shape of X_adasampled: {}'.format(X_adasampled.shape))\n",
    "print('Shape of Y_adasampled: {}'.format(Y_adasampled.shape))"
   ]
  },
  {
   "cell_type": "code",
   "execution_count": 57,
   "id": "7c75d11e",
   "metadata": {},
   "outputs": [
    {
     "name": "stdout",
     "output_type": "stream",
     "text": [
      "Label Distributions: \n",
      "\n",
      "[0.49985341 0.50014659]\n"
     ]
    }
   ],
   "source": [
    "#checking the disribution of both the labels\n",
    "train_label, train_count = np.unique(Y_adasampled, return_counts=True)\n",
    "print('Label Distributions: \\n')\n",
    "print(train_count/ len(Y_adasampled))"
   ]
  },
  {
   "cell_type": "code",
   "execution_count": 58,
   "id": "6cbcd005",
   "metadata": {},
   "outputs": [],
   "source": [
    "#Converting to array\n",
    "X_adasampled_ar = np.array(X_adasampled)\n",
    "X_test_ar = np.array(Xtest)\n",
    "X_val_ar = np.array(Xval)\n",
    "y_val_ar = np.array(Yval)\n",
    "y_adasampled_ar = np.array(Y_adasampled)\n",
    "y_test_sm_ar = np.array(Ytest)"
   ]
  },
  {
   "cell_type": "markdown",
   "id": "5f7fddc6",
   "metadata": {},
   "source": [
    "### Loading Data into Tensor."
   ]
  },
  {
   "cell_type": "code",
   "execution_count": 59,
   "id": "c2a90f80",
   "metadata": {},
   "outputs": [],
   "source": [
    "train_loader = DataLoader(TensorDataset(torch.from_numpy(X_adasampled_ar), torch.from_numpy(y_adasampled_ar)), \n",
    "                          batch_size=len(X_adasampled), shuffle=True)\n",
    "\n",
    "test_loader = DataLoader(TensorDataset(torch.from_numpy(X_test_ar), torch.from_numpy(y_test_sm_ar)), \n",
    "                         batch_size=len(X_adasampled), shuffle=False)\n",
    "\n",
    "val_loader = DataLoader(TensorDataset(torch.from_numpy(X_val_ar), torch.from_numpy(y_val_ar)), \n",
    "                         batch_size=len(Xval), shuffle=False)\n",
    "\n",
    "data_loaders = {\"train\": train_loader,\n",
    "               \"test\": test_loader,\n",
    "               \"validation\": val_loader}"
   ]
  },
  {
   "cell_type": "markdown",
   "id": "86d7b0fe",
   "metadata": {},
   "source": [
    "### Defining Neural Network."
   ]
  },
  {
   "cell_type": "code",
   "execution_count": 60,
   "id": "844de973",
   "metadata": {},
   "outputs": [],
   "source": [
    "class Classifier(nn.Module):\n",
    "    def __init__(self):\n",
    "        super().__init__()\n",
    "        self.fc1 = nn.Linear(29, 340) #28 xs\n",
    "        self.fc2 = nn.Linear(340,220) # hidden layers with 340 and 220 neurons each\n",
    "        self.fc3 = nn.Linear(220, 200)\n",
    "        self.fc4 = nn.Linear(200,70)\n",
    "        self.fc5 = nn.Linear(70,10)\n",
    "        self.fc6 = nn.Linear(10,2) # two responses - 0 or 1\n",
    "        self.dropout = nn.Dropout(p=0.2)\n",
    "        \n",
    "    def forward(self,out):\n",
    "        out = F.relu(self.fc1(out))\n",
    "        out = F.relu(self.fc2(out))\n",
    "        out = F.relu(self.fc3(out))\n",
    "        out = F.relu(self.fc4(out))\n",
    "        out = self.dropout(F.relu(self.fc5(out)))\n",
    "        out = F.log_softmax(self.fc6(out),dim=1)\n",
    "        \n",
    "        return out"
   ]
  },
  {
   "cell_type": "code",
   "execution_count": 61,
   "id": "48a93fd8",
   "metadata": {},
   "outputs": [],
   "source": [
    "model = Classifier()\n",
    "criterion = nn.NLLLoss()\n",
    "optimizer = optim.Adam(model.parameters(), lr=0.01)"
   ]
  },
  {
   "cell_type": "code",
   "execution_count": 62,
   "id": "210d8de5",
   "metadata": {},
   "outputs": [
    {
     "data": {
      "text/plain": [
       "Classifier(\n",
       "  (fc1): Linear(in_features=29, out_features=340, bias=True)\n",
       "  (fc2): Linear(in_features=340, out_features=220, bias=True)\n",
       "  (fc3): Linear(in_features=220, out_features=200, bias=True)\n",
       "  (fc4): Linear(in_features=200, out_features=70, bias=True)\n",
       "  (fc5): Linear(in_features=70, out_features=10, bias=True)\n",
       "  (fc6): Linear(in_features=10, out_features=2, bias=True)\n",
       "  (dropout): Dropout(p=0.2, inplace=False)\n",
       ")"
      ]
     },
     "execution_count": 62,
     "metadata": {},
     "output_type": "execute_result"
    }
   ],
   "source": [
    "model"
   ]
  },
  {
   "cell_type": "markdown",
   "id": "19713f80",
   "metadata": {},
   "source": [
    "### Accuracy"
   ]
  },
  {
   "cell_type": "code",
   "execution_count": 63,
   "id": "7f99522b",
   "metadata": {},
   "outputs": [],
   "source": [
    "def predict(model, inputs):\n",
    "    output = model(inputs)\n",
    "    return output.data.numpy().argmax(axis=1)"
   ]
  },
  {
   "cell_type": "code",
   "execution_count": 64,
   "id": "2e424d9f",
   "metadata": {},
   "outputs": [],
   "source": [
    "accuracy_stats = {\n",
    "    'train': [],\n",
    "    \"val\": []\n",
    "}\n",
    "loss_stats = {\n",
    "    'train': [],\n",
    "    \"val\": []\n",
    "}"
   ]
  },
  {
   "cell_type": "code",
   "execution_count": 65,
   "id": "5d154270",
   "metadata": {},
   "outputs": [
    {
     "name": "stdout",
     "output_type": "stream",
     "text": [
      "Begin Training\n"
     ]
    },
    {
     "data": {
      "application/vnd.jupyter.widget-view+json": {
       "model_id": "94422b401f5b41428748081c825130f7",
       "version_major": 2,
       "version_minor": 0
      },
      "text/plain": [
       "HBox(children=(FloatProgress(value=0.0, max=200.0), HTML(value='')))"
      ]
     },
     "metadata": {},
     "output_type": "display_data"
    },
    {
     "name": "stdout",
     "output_type": "stream",
     "text": [
      "Epoch 1: | Train Loss: 0.71209 | Val loss: 1.10296 | Train Acc: 0.500 | Val acc: 0.013 \n",
      "Epoch 2: | Train Loss: 1.23224 | Val loss: 0.72361 | Train Acc: 0.641 | Val acc: 0.795 \n",
      "Epoch 3: | Train Loss: 0.84680 | Val loss: 0.65991 | Train Acc: 0.641 | Val acc: 0.511 \n",
      "Epoch 4: | Train Loss: 0.64933 | Val loss: 0.70322 | Train Acc: 0.741 | Val acc: 0.613 \n",
      "Epoch 5: | Train Loss: 0.58715 | Val loss: 0.59293 | Train Acc: 0.827 | Val acc: 0.831 \n",
      "Epoch 6: | Train Loss: 0.43598 | Val loss: 0.38689 | Train Acc: 0.886 | Val acc: 0.901 \n",
      "Epoch 7: | Train Loss: 0.29806 | Val loss: 0.25249 | Train Acc: 0.900 | Val acc: 0.936 \n",
      "Epoch 8: | Train Loss: 0.30769 | Val loss: 0.24585 | Train Acc: 0.924 | Val acc: 0.926 \n",
      "Epoch 9: | Train Loss: 0.24328 | Val loss: 0.22461 | Train Acc: 0.940 | Val acc: 0.940 \n",
      "Epoch 10: | Train Loss: 0.17107 | Val loss: 0.13033 | Train Acc: 0.947 | Val acc: 0.955 \n",
      "Epoch 11: | Train Loss: 0.15694 | Val loss: 0.11602 | Train Acc: 0.967 | Val acc: 0.931 \n",
      "Epoch 12: | Train Loss: 0.12533 | Val loss: 0.16018 | Train Acc: 0.961 | Val acc: 0.926 \n",
      "Epoch 13: | Train Loss: 0.12060 | Val loss: 0.16175 | Train Acc: 0.968 | Val acc: 0.947 \n",
      "Epoch 14: | Train Loss: 0.10346 | Val loss: 0.12185 | Train Acc: 0.967 | Val acc: 0.963 \n",
      "Epoch 15: | Train Loss: 0.10743 | Val loss: 0.08714 | Train Acc: 0.968 | Val acc: 0.970 \n",
      "Epoch 16: | Train Loss: 0.06991 | Val loss: 0.07453 | Train Acc: 0.985 | Val acc: 0.972 \n",
      "Epoch 17: | Train Loss: 0.06437 | Val loss: 0.07377 | Train Acc: 0.983 | Val acc: 0.968 \n",
      "Epoch 18: | Train Loss: 0.06522 | Val loss: 0.08667 | Train Acc: 0.985 | Val acc: 0.965 \n",
      "Epoch 19: | Train Loss: 0.05988 | Val loss: 0.09989 | Train Acc: 0.985 | Val acc: 0.973 \n",
      "Epoch 20: | Train Loss: 0.05359 | Val loss: 0.07597 | Train Acc: 0.989 | Val acc: 0.981 \n",
      "Epoch 21: | Train Loss: 0.06325 | Val loss: 0.06573 | Train Acc: 0.990 | Val acc: 0.973 \n",
      "Epoch 22: | Train Loss: 0.05981 | Val loss: 0.13545 | Train Acc: 0.986 | Val acc: 0.969 \n",
      "Epoch 23: | Train Loss: 0.07234 | Val loss: 0.10667 | Train Acc: 0.987 | Val acc: 0.976 \n",
      "Epoch 24: | Train Loss: 0.07371 | Val loss: 0.07120 | Train Acc: 0.985 | Val acc: 0.978 \n",
      "Epoch 25: | Train Loss: 0.05607 | Val loss: 0.06429 | Train Acc: 0.989 | Val acc: 0.971 \n",
      "Epoch 26: | Train Loss: 0.04894 | Val loss: 0.07858 | Train Acc: 0.986 | Val acc: 0.965 \n",
      "Epoch 27: | Train Loss: 0.05476 | Val loss: 0.08790 | Train Acc: 0.983 | Val acc: 0.967 \n",
      "Epoch 28: | Train Loss: 0.04932 | Val loss: 0.07052 | Train Acc: 0.987 | Val acc: 0.974 \n",
      "Epoch 29: | Train Loss: 0.04363 | Val loss: 0.05723 | Train Acc: 0.990 | Val acc: 0.982 \n",
      "Epoch 30: | Train Loss: 0.03894 | Val loss: 0.05219 | Train Acc: 0.992 | Val acc: 0.983 \n",
      "Epoch 31: | Train Loss: 0.03377 | Val loss: 0.05632 | Train Acc: 0.992 | Val acc: 0.985 \n",
      "Epoch 32: | Train Loss: 0.03252 | Val loss: 0.06848 | Train Acc: 0.993 | Val acc: 0.983 \n",
      "Epoch 33: | Train Loss: 0.03275 | Val loss: 0.07460 | Train Acc: 0.992 | Val acc: 0.985 \n",
      "Epoch 34: | Train Loss: 0.03218 | Val loss: 0.07248 | Train Acc: 0.992 | Val acc: 0.984 \n",
      "Epoch 35: | Train Loss: 0.04690 | Val loss: 0.07069 | Train Acc: 0.994 | Val acc: 0.982 \n",
      "Epoch 36: | Train Loss: 0.04396 | Val loss: 0.14638 | Train Acc: 0.989 | Val acc: 0.973 \n",
      "Epoch 37: | Train Loss: 0.07645 | Val loss: 0.14593 | Train Acc: 0.988 | Val acc: 0.978 \n",
      "Epoch 38: | Train Loss: 0.05211 | Val loss: 0.07728 | Train Acc: 0.992 | Val acc: 0.985 \n",
      "Epoch 39: | Train Loss: 0.05585 | Val loss: 0.04962 | Train Acc: 0.992 | Val acc: 0.982 \n",
      "Epoch 40: | Train Loss: 0.03569 | Val loss: 0.07165 | Train Acc: 0.991 | Val acc: 0.974 \n",
      "Epoch 41: | Train Loss: 0.04126 | Val loss: 0.07670 | Train Acc: 0.989 | Val acc: 0.973 \n",
      "Epoch 42: | Train Loss: 0.03975 | Val loss: 0.07420 | Train Acc: 0.988 | Val acc: 0.973 \n",
      "Epoch 43: | Train Loss: 0.04216 | Val loss: 0.06897 | Train Acc: 0.988 | Val acc: 0.977 \n",
      "Epoch 44: | Train Loss: 0.04266 | Val loss: 0.05618 | Train Acc: 0.989 | Val acc: 0.978 \n",
      "Epoch 45: | Train Loss: 0.03601 | Val loss: 0.06084 | Train Acc: 0.991 | Val acc: 0.978 \n",
      "Epoch 46: | Train Loss: 0.03193 | Val loss: 0.06514 | Train Acc: 0.992 | Val acc: 0.978 \n",
      "Epoch 47: | Train Loss: 0.03234 | Val loss: 0.06092 | Train Acc: 0.992 | Val acc: 0.982 \n",
      "Epoch 48: | Train Loss: 0.02882 | Val loss: 0.05793 | Train Acc: 0.994 | Val acc: 0.987 \n",
      "Epoch 49: | Train Loss: 0.02627 | Val loss: 0.05295 | Train Acc: 0.995 | Val acc: 0.987 \n",
      "Epoch 50: | Train Loss: 0.02658 | Val loss: 0.05966 | Train Acc: 0.994 | Val acc: 0.985 \n",
      "Epoch 51: | Train Loss: 0.02422 | Val loss: 0.06651 | Train Acc: 0.994 | Val acc: 0.986 \n",
      "Epoch 52: | Train Loss: 0.02303 | Val loss: 0.07092 | Train Acc: 0.994 | Val acc: 0.986 \n",
      "Epoch 53: | Train Loss: 0.02325 | Val loss: 0.07538 | Train Acc: 0.994 | Val acc: 0.988 \n",
      "Epoch 54: | Train Loss: 0.02144 | Val loss: 0.07678 | Train Acc: 0.995 | Val acc: 0.987 \n",
      "Epoch 55: | Train Loss: 0.02724 | Val loss: 0.08081 | Train Acc: 0.995 | Val acc: 0.984 \n",
      "Epoch 56: | Train Loss: 0.02555 | Val loss: 0.12194 | Train Acc: 0.992 | Val acc: 0.977 \n",
      "Epoch 57: | Train Loss: 0.05039 | Val loss: 0.15763 | Train Acc: 0.990 | Val acc: 0.976 \n",
      "Epoch 58: | Train Loss: 0.04525 | Val loss: 0.10802 | Train Acc: 0.992 | Val acc: 0.981 \n",
      "Epoch 59: | Train Loss: 0.03574 | Val loss: 0.08167 | Train Acc: 0.993 | Val acc: 0.985 \n",
      "Epoch 60: | Train Loss: 0.03870 | Val loss: 0.07361 | Train Acc: 0.993 | Val acc: 0.980 \n",
      "Epoch 61: | Train Loss: 0.03165 | Val loss: 0.08874 | Train Acc: 0.990 | Val acc: 0.972 \n",
      "Epoch 62: | Train Loss: 0.04664 | Val loss: 0.10677 | Train Acc: 0.987 | Val acc: 0.972 \n",
      "Epoch 63: | Train Loss: 0.04149 | Val loss: 0.07643 | Train Acc: 0.990 | Val acc: 0.979 \n",
      "Epoch 64: | Train Loss: 0.03138 | Val loss: 0.05490 | Train Acc: 0.992 | Val acc: 0.985 \n",
      "Epoch 65: | Train Loss: 0.03851 | Val loss: 0.05338 | Train Acc: 0.991 | Val acc: 0.985 \n",
      "Epoch 66: | Train Loss: 0.03338 | Val loss: 0.05172 | Train Acc: 0.994 | Val acc: 0.984 \n",
      "Epoch 67: | Train Loss: 0.02523 | Val loss: 0.05375 | Train Acc: 0.993 | Val acc: 0.981 \n",
      "Epoch 68: | Train Loss: 0.02632 | Val loss: 0.06688 | Train Acc: 0.992 | Val acc: 0.982 \n",
      "Epoch 69: | Train Loss: 0.02919 | Val loss: 0.06831 | Train Acc: 0.992 | Val acc: 0.980 \n",
      "Epoch 70: | Train Loss: 0.02716 | Val loss: 0.06758 | Train Acc: 0.993 | Val acc: 0.985 \n",
      "Epoch 71: | Train Loss: 0.02542 | Val loss: 0.06164 | Train Acc: 0.994 | Val acc: 0.986 \n",
      "Epoch 72: | Train Loss: 0.02392 | Val loss: 0.05227 | Train Acc: 0.995 | Val acc: 0.987 \n",
      "Epoch 73: | Train Loss: 0.02239 | Val loss: 0.05256 | Train Acc: 0.994 | Val acc: 0.986 \n",
      "Epoch 74: | Train Loss: 0.02219 | Val loss: 0.07135 | Train Acc: 0.995 | Val acc: 0.986 \n",
      "Epoch 75: | Train Loss: 0.01981 | Val loss: 0.07780 | Train Acc: 0.995 | Val acc: 0.987 \n",
      "Epoch 76: | Train Loss: 0.01920 | Val loss: 0.07035 | Train Acc: 0.995 | Val acc: 0.986 \n",
      "Epoch 77: | Train Loss: 0.01916 | Val loss: 0.07629 | Train Acc: 0.994 | Val acc: 0.987 \n",
      "Epoch 78: | Train Loss: 0.01855 | Val loss: 0.07235 | Train Acc: 0.995 | Val acc: 0.987 \n",
      "Epoch 79: | Train Loss: 0.01867 | Val loss: 0.07565 | Train Acc: 0.995 | Val acc: 0.987 \n",
      "Epoch 80: | Train Loss: 0.01888 | Val loss: 0.07621 | Train Acc: 0.995 | Val acc: 0.988 \n",
      "Epoch 81: | Train Loss: 0.01733 | Val loss: 0.07258 | Train Acc: 0.995 | Val acc: 0.987 \n",
      "Epoch 82: | Train Loss: 0.01775 | Val loss: 0.07903 | Train Acc: 0.995 | Val acc: 0.988 \n",
      "Epoch 83: | Train Loss: 0.01744 | Val loss: 0.08575 | Train Acc: 0.995 | Val acc: 0.989 \n",
      "Epoch 84: | Train Loss: 0.01731 | Val loss: 0.08794 | Train Acc: 0.995 | Val acc: 0.989 \n",
      "Epoch 85: | Train Loss: 0.01659 | Val loss: 0.08804 | Train Acc: 0.996 | Val acc: 0.989 \n",
      "Epoch 86: | Train Loss: 0.01710 | Val loss: 0.08899 | Train Acc: 0.995 | Val acc: 0.989 \n",
      "Epoch 87: | Train Loss: 0.01563 | Val loss: 0.08852 | Train Acc: 0.995 | Val acc: 0.990 \n",
      "Epoch 88: | Train Loss: 0.01564 | Val loss: 0.08732 | Train Acc: 0.996 | Val acc: 0.988 \n",
      "Epoch 89: | Train Loss: 0.01587 | Val loss: 0.09840 | Train Acc: 0.996 | Val acc: 0.988 \n",
      "Epoch 90: | Train Loss: 0.01551 | Val loss: 0.09360 | Train Acc: 0.996 | Val acc: 0.989 \n",
      "Epoch 91: | Train Loss: 0.01496 | Val loss: 0.10449 | Train Acc: 0.996 | Val acc: 0.991 \n",
      "Epoch 92: | Train Loss: 0.01514 | Val loss: 0.10821 | Train Acc: 0.995 | Val acc: 0.988 \n",
      "Epoch 93: | Train Loss: 0.01513 | Val loss: 0.09432 | Train Acc: 0.996 | Val acc: 0.989 \n"
     ]
    },
    {
     "name": "stdout",
     "output_type": "stream",
     "text": [
      "Epoch 94: | Train Loss: 0.01501 | Val loss: 0.08758 | Train Acc: 0.996 | Val acc: 0.990 \n",
      "Epoch 95: | Train Loss: 0.01452 | Val loss: 0.10400 | Train Acc: 0.996 | Val acc: 0.989 \n",
      "Epoch 96: | Train Loss: 0.01512 | Val loss: 0.10046 | Train Acc: 0.996 | Val acc: 0.987 \n",
      "Epoch 97: | Train Loss: 0.01425 | Val loss: 0.09961 | Train Acc: 0.996 | Val acc: 0.989 \n",
      "Epoch 98: | Train Loss: 0.01478 | Val loss: 0.10409 | Train Acc: 0.996 | Val acc: 0.990 \n",
      "Epoch 99: | Train Loss: 0.01454 | Val loss: 0.11321 | Train Acc: 0.996 | Val acc: 0.989 \n",
      "Epoch 100: | Train Loss: 0.01421 | Val loss: 0.12103 | Train Acc: 0.996 | Val acc: 0.990 \n",
      "Epoch 101: | Train Loss: 0.01439 | Val loss: 0.11935 | Train Acc: 0.996 | Val acc: 0.987 \n",
      "Epoch 102: | Train Loss: 0.01408 | Val loss: 0.11074 | Train Acc: 0.996 | Val acc: 0.989 \n",
      "Epoch 103: | Train Loss: 0.01490 | Val loss: 0.10781 | Train Acc: 0.996 | Val acc: 0.990 \n",
      "Epoch 104: | Train Loss: 0.01394 | Val loss: 0.09074 | Train Acc: 0.995 | Val acc: 0.991 \n",
      "Epoch 105: | Train Loss: 0.01430 | Val loss: 0.10731 | Train Acc: 0.996 | Val acc: 0.990 \n",
      "Epoch 106: | Train Loss: 0.01496 | Val loss: 0.09985 | Train Acc: 0.996 | Val acc: 0.988 \n",
      "Epoch 107: | Train Loss: 0.01431 | Val loss: 0.12643 | Train Acc: 0.996 | Val acc: 0.988 \n",
      "Epoch 108: | Train Loss: 0.01462 | Val loss: 0.12621 | Train Acc: 0.996 | Val acc: 0.990 \n",
      "Epoch 109: | Train Loss: 0.01360 | Val loss: 0.11024 | Train Acc: 0.996 | Val acc: 0.989 \n",
      "Epoch 110: | Train Loss: 0.01424 | Val loss: 0.10971 | Train Acc: 0.996 | Val acc: 0.988 \n",
      "Epoch 111: | Train Loss: 0.01407 | Val loss: 0.12275 | Train Acc: 0.996 | Val acc: 0.989 \n",
      "Epoch 112: | Train Loss: 0.01378 | Val loss: 0.11457 | Train Acc: 0.995 | Val acc: 0.989 \n",
      "Epoch 113: | Train Loss: 0.01337 | Val loss: 0.12812 | Train Acc: 0.996 | Val acc: 0.989 \n",
      "Epoch 114: | Train Loss: 0.01418 | Val loss: 0.13201 | Train Acc: 0.995 | Val acc: 0.990 \n",
      "Epoch 115: | Train Loss: 0.01383 | Val loss: 0.13181 | Train Acc: 0.996 | Val acc: 0.990 \n",
      "Epoch 116: | Train Loss: 0.01374 | Val loss: 0.11520 | Train Acc: 0.996 | Val acc: 0.991 \n",
      "Epoch 117: | Train Loss: 0.01460 | Val loss: 0.12717 | Train Acc: 0.996 | Val acc: 0.989 \n",
      "Epoch 118: | Train Loss: 0.01338 | Val loss: 0.12310 | Train Acc: 0.996 | Val acc: 0.989 \n",
      "Epoch 119: | Train Loss: 0.01361 | Val loss: 0.12282 | Train Acc: 0.996 | Val acc: 0.990 \n",
      "Epoch 120: | Train Loss: 0.01421 | Val loss: 0.14003 | Train Acc: 0.996 | Val acc: 0.989 \n",
      "Epoch 121: | Train Loss: 0.01378 | Val loss: 0.13710 | Train Acc: 0.996 | Val acc: 0.989 \n",
      "Epoch 122: | Train Loss: 0.01382 | Val loss: 0.13194 | Train Acc: 0.996 | Val acc: 0.988 \n",
      "Epoch 123: | Train Loss: 0.01362 | Val loss: 0.12985 | Train Acc: 0.996 | Val acc: 0.990 \n",
      "Epoch 124: | Train Loss: 0.01276 | Val loss: 0.12614 | Train Acc: 0.996 | Val acc: 0.988 \n",
      "Epoch 125: | Train Loss: 0.01292 | Val loss: 0.13080 | Train Acc: 0.996 | Val acc: 0.988 \n",
      "Epoch 126: | Train Loss: 0.01326 | Val loss: 0.13857 | Train Acc: 0.996 | Val acc: 0.990 \n",
      "Epoch 127: | Train Loss: 0.01310 | Val loss: 0.13406 | Train Acc: 0.996 | Val acc: 0.988 \n",
      "Epoch 128: | Train Loss: 0.01351 | Val loss: 0.13573 | Train Acc: 0.996 | Val acc: 0.990 \n",
      "Epoch 129: | Train Loss: 0.01300 | Val loss: 0.12867 | Train Acc: 0.996 | Val acc: 0.989 \n",
      "Epoch 130: | Train Loss: 0.01320 | Val loss: 0.13329 | Train Acc: 0.996 | Val acc: 0.988 \n",
      "Epoch 131: | Train Loss: 0.01349 | Val loss: 0.13939 | Train Acc: 0.996 | Val acc: 0.989 \n",
      "Epoch 132: | Train Loss: 0.01276 | Val loss: 0.13047 | Train Acc: 0.996 | Val acc: 0.989 \n",
      "Epoch 133: | Train Loss: 0.01354 | Val loss: 0.14279 | Train Acc: 0.996 | Val acc: 0.990 \n",
      "Epoch 134: | Train Loss: 0.01300 | Val loss: 0.14751 | Train Acc: 0.996 | Val acc: 0.990 \n",
      "Epoch 135: | Train Loss: 0.01315 | Val loss: 0.12818 | Train Acc: 0.995 | Val acc: 0.989 \n",
      "Epoch 136: | Train Loss: 0.01362 | Val loss: 0.12921 | Train Acc: 0.996 | Val acc: 0.988 \n",
      "Epoch 137: | Train Loss: 0.01283 | Val loss: 0.14441 | Train Acc: 0.996 | Val acc: 0.989 \n",
      "Epoch 138: | Train Loss: 0.01326 | Val loss: 0.14883 | Train Acc: 0.996 | Val acc: 0.990 \n",
      "Epoch 139: | Train Loss: 0.01282 | Val loss: 0.15155 | Train Acc: 0.996 | Val acc: 0.989 \n",
      "Epoch 140: | Train Loss: 0.01298 | Val loss: 0.15431 | Train Acc: 0.996 | Val acc: 0.989 \n",
      "Epoch 141: | Train Loss: 0.01320 | Val loss: 0.14612 | Train Acc: 0.996 | Val acc: 0.990 \n",
      "Epoch 142: | Train Loss: 0.01270 | Val loss: 0.14332 | Train Acc: 0.995 | Val acc: 0.991 \n",
      "Epoch 143: | Train Loss: 0.01343 | Val loss: 0.15408 | Train Acc: 0.996 | Val acc: 0.990 \n",
      "Epoch 144: | Train Loss: 0.01360 | Val loss: 0.14895 | Train Acc: 0.996 | Val acc: 0.989 \n",
      "Epoch 145: | Train Loss: 0.01288 | Val loss: 0.14612 | Train Acc: 0.995 | Val acc: 0.989 \n",
      "Epoch 146: | Train Loss: 0.01297 | Val loss: 0.14019 | Train Acc: 0.996 | Val acc: 0.990 \n",
      "Epoch 147: | Train Loss: 0.01351 | Val loss: 0.14648 | Train Acc: 0.995 | Val acc: 0.990 \n",
      "Epoch 148: | Train Loss: 0.01343 | Val loss: 0.15400 | Train Acc: 0.996 | Val acc: 0.989 \n",
      "Epoch 149: | Train Loss: 0.01297 | Val loss: 0.14292 | Train Acc: 0.996 | Val acc: 0.989 \n",
      "Epoch 150: | Train Loss: 0.01338 | Val loss: 0.15288 | Train Acc: 0.996 | Val acc: 0.988 \n",
      "Epoch 151: | Train Loss: 0.01282 | Val loss: 0.16527 | Train Acc: 0.996 | Val acc: 0.988 \n",
      "Epoch 152: | Train Loss: 0.01241 | Val loss: 0.13952 | Train Acc: 0.996 | Val acc: 0.990 \n",
      "Epoch 153: | Train Loss: 0.01286 | Val loss: 0.15169 | Train Acc: 0.996 | Val acc: 0.988 \n",
      "Epoch 154: | Train Loss: 0.01318 | Val loss: 0.14917 | Train Acc: 0.996 | Val acc: 0.988 \n",
      "Epoch 155: | Train Loss: 0.01290 | Val loss: 0.14222 | Train Acc: 0.996 | Val acc: 0.988 \n",
      "Epoch 156: | Train Loss: 0.01267 | Val loss: 0.14530 | Train Acc: 0.996 | Val acc: 0.989 \n",
      "Epoch 157: | Train Loss: 0.01243 | Val loss: 0.16386 | Train Acc: 0.996 | Val acc: 0.989 \n",
      "Epoch 158: | Train Loss: 0.01322 | Val loss: 0.15218 | Train Acc: 0.996 | Val acc: 0.989 \n",
      "Epoch 159: | Train Loss: 0.01259 | Val loss: 0.15503 | Train Acc: 0.996 | Val acc: 0.989 \n",
      "Epoch 160: | Train Loss: 0.01278 | Val loss: 0.16084 | Train Acc: 0.996 | Val acc: 0.988 \n",
      "Epoch 161: | Train Loss: 0.01282 | Val loss: 0.14816 | Train Acc: 0.996 | Val acc: 0.988 \n",
      "Epoch 162: | Train Loss: 0.01272 | Val loss: 0.16974 | Train Acc: 0.996 | Val acc: 0.989 \n",
      "Epoch 163: | Train Loss: 0.01281 | Val loss: 0.14168 | Train Acc: 0.996 | Val acc: 0.989 \n",
      "Epoch 164: | Train Loss: 0.01286 | Val loss: 0.16727 | Train Acc: 0.996 | Val acc: 0.991 \n",
      "Epoch 165: | Train Loss: 0.01279 | Val loss: 0.16147 | Train Acc: 0.996 | Val acc: 0.988 \n",
      "Epoch 166: | Train Loss: 0.01392 | Val loss: 0.14554 | Train Acc: 0.996 | Val acc: 0.990 \n",
      "Epoch 167: | Train Loss: 0.01452 | Val loss: 0.16358 | Train Acc: 0.996 | Val acc: 0.989 \n",
      "Epoch 168: | Train Loss: 0.01443 | Val loss: 0.14084 | Train Acc: 0.996 | Val acc: 0.989 \n",
      "Epoch 169: | Train Loss: 0.01361 | Val loss: 0.15223 | Train Acc: 0.996 | Val acc: 0.989 \n",
      "Epoch 170: | Train Loss: 0.01467 | Val loss: 0.15669 | Train Acc: 0.995 | Val acc: 0.989 \n",
      "Epoch 171: | Train Loss: 0.01346 | Val loss: 0.16845 | Train Acc: 0.996 | Val acc: 0.989 \n",
      "Epoch 172: | Train Loss: 0.01415 | Val loss: 0.13582 | Train Acc: 0.996 | Val acc: 0.989 \n",
      "Epoch 173: | Train Loss: 0.01313 | Val loss: 0.16253 | Train Acc: 0.996 | Val acc: 0.991 \n",
      "Epoch 174: | Train Loss: 0.01406 | Val loss: 0.13462 | Train Acc: 0.996 | Val acc: 0.989 \n",
      "Epoch 175: | Train Loss: 0.01490 | Val loss: 0.12579 | Train Acc: 0.996 | Val acc: 0.988 \n",
      "Epoch 176: | Train Loss: 0.01402 | Val loss: 0.15172 | Train Acc: 0.996 | Val acc: 0.988 \n",
      "Epoch 177: | Train Loss: 0.01332 | Val loss: 0.13537 | Train Acc: 0.996 | Val acc: 0.989 \n",
      "Epoch 178: | Train Loss: 0.01336 | Val loss: 0.12708 | Train Acc: 0.996 | Val acc: 0.988 \n",
      "Epoch 179: | Train Loss: 0.01359 | Val loss: 0.14884 | Train Acc: 0.996 | Val acc: 0.989 \n",
      "Epoch 180: | Train Loss: 0.01307 | Val loss: 0.12123 | Train Acc: 0.996 | Val acc: 0.989 \n",
      "Epoch 181: | Train Loss: 0.01333 | Val loss: 0.14621 | Train Acc: 0.996 | Val acc: 0.990 \n",
      "Epoch 182: | Train Loss: 0.01300 | Val loss: 0.14044 | Train Acc: 0.996 | Val acc: 0.989 \n",
      "Epoch 183: | Train Loss: 0.01336 | Val loss: 0.15073 | Train Acc: 0.996 | Val acc: 0.988 \n",
      "Epoch 184: | Train Loss: 0.01295 | Val loss: 0.13614 | Train Acc: 0.996 | Val acc: 0.987 \n",
      "Epoch 185: | Train Loss: 0.01287 | Val loss: 0.13979 | Train Acc: 0.996 | Val acc: 0.990 \n"
     ]
    },
    {
     "name": "stdout",
     "output_type": "stream",
     "text": [
      "Epoch 186: | Train Loss: 0.01314 | Val loss: 0.14436 | Train Acc: 0.996 | Val acc: 0.988 \n",
      "Epoch 187: | Train Loss: 0.01232 | Val loss: 0.15581 | Train Acc: 0.996 | Val acc: 0.989 \n",
      "Epoch 188: | Train Loss: 0.01233 | Val loss: 0.15866 | Train Acc: 0.996 | Val acc: 0.989 \n",
      "Epoch 189: | Train Loss: 0.01268 | Val loss: 0.12087 | Train Acc: 0.996 | Val acc: 0.989 \n",
      "Epoch 190: | Train Loss: 0.01213 | Val loss: 0.13054 | Train Acc: 0.996 | Val acc: 0.990 \n",
      "Epoch 191: | Train Loss: 0.01213 | Val loss: 0.14705 | Train Acc: 0.995 | Val acc: 0.989 \n",
      "Epoch 192: | Train Loss: 0.01223 | Val loss: 0.14647 | Train Acc: 0.996 | Val acc: 0.989 \n",
      "Epoch 193: | Train Loss: 0.01261 | Val loss: 0.14735 | Train Acc: 0.996 | Val acc: 0.989 \n",
      "Epoch 194: | Train Loss: 0.01273 | Val loss: 0.15294 | Train Acc: 0.996 | Val acc: 0.990 \n",
      "Epoch 195: | Train Loss: 0.01189 | Val loss: 0.16767 | Train Acc: 0.995 | Val acc: 0.989 \n",
      "Epoch 196: | Train Loss: 0.01328 | Val loss: 0.16464 | Train Acc: 0.996 | Val acc: 0.990 \n",
      "Epoch 197: | Train Loss: 0.01246 | Val loss: 0.16353 | Train Acc: 0.996 | Val acc: 0.988 \n",
      "Epoch 198: | Train Loss: 0.01226 | Val loss: 0.17378 | Train Acc: 0.996 | Val acc: 0.990 \n",
      "Epoch 199: | Train Loss: 0.01247 | Val loss: 0.15059 | Train Acc: 0.996 | Val acc: 0.989 \n",
      "Epoch 200: | Train Loss: 0.01186 | Val loss: 0.15642 | Train Acc: 0.996 | Val acc: 0.989 \n",
      "\n"
     ]
    }
   ],
   "source": [
    "loss1 = []\n",
    "val_loss1=[]\n",
    "train_acc = []\n",
    "val_acc=[]\n",
    "Epoch = 200\n",
    "\n",
    "print(\"Begin Training\")\n",
    "for epoch in tqdm(range(Epoch)):\n",
    "    \n",
    "    # training\n",
    "    acc = 0\n",
    "    train_acc1=0\n",
    "    train_epoch_loss=0\n",
    "    \n",
    "    for i, (features, labels) in enumerate(train_loader):\n",
    "        \n",
    "        features = Variable(features)\n",
    "        labels = Variable(labels)\n",
    "        \n",
    "        optimizer.zero_grad()\n",
    "        features = features.float()\n",
    "        outputs = model(features)\n",
    "        loss = criterion(outputs, labels.long())\n",
    "        loss.backward()\n",
    "        optimizer.step()\n",
    "        \n",
    "        train_epoch_loss += loss.item()\n",
    "        \n",
    "        if (i+1) % len(train_loader) == 0:\n",
    "            y_pred = predict(model, torch.from_numpy(X_adasampled_ar).float())\n",
    "            acc = np.mean(y_adasampled_ar == y_pred)\n",
    "            \n",
    "            train_acc1 = acc/len(train_loader)\n",
    "            train_acc.append(train_acc1)\n",
    "            loss1.append(loss.data)\n",
    "            \n",
    "    # validation\n",
    "    val_acc = 0\n",
    "    val_acc1=0\n",
    "    val_epoch_loss=0\n",
    "    with torch.no_grad():\n",
    "            for i, (val_features, val_labels) in enumerate(val_loader):\n",
    "                val_features = Variable(val_features)\n",
    "                val_labels = Variable(val_labels)\n",
    "        \n",
    "                val_features = val_features.float()\n",
    "                val_outputs = model(val_features)\n",
    "                val_loss = criterion(val_outputs, val_labels.long())        \n",
    "                optimizer.step()\n",
    "        \n",
    "                val_epoch_loss += val_loss.item()\n",
    "        \n",
    "                if (i+1) % len(val_loader) == 0:\n",
    "                    y_pred_val = predict(model, torch.from_numpy(X_val_ar).float())\n",
    "                    val_acc = np.mean(Yval == y_pred_val)\n",
    "            \n",
    "                    val_acc1 = val_acc/len(val_loader)\n",
    "                    val_acc += val_acc1.item()\n",
    "                    val_loss1.append(val_loss.data)\n",
    "                    \n",
    "            loss_stats['train'].append(train_epoch_loss/len(train_loader))\n",
    "            loss_stats['val'].append(val_epoch_loss/len(val_loader))\n",
    "            accuracy_stats['train'].append(train_acc1/len(train_loader))\n",
    "            accuracy_stats['val'].append(val_acc1/len(val_loader))\n",
    "            \n",
    "            print(f'Epoch {epoch+1}: | Train Loss: {train_epoch_loss/len(train_loader):.5f} | Val loss: {val_epoch_loss/len(val_loader):.5f} | Train Acc: {train_acc1:.3f} | Val acc: {val_acc1:.3f} ')"
   ]
  },
  {
   "cell_type": "markdown",
   "id": "03e97281",
   "metadata": {},
   "source": [
    "Acuracy of Actual Test data wit prediction."
   ]
  },
  {
   "cell_type": "code",
   "execution_count": 66,
   "id": "eb6e858e",
   "metadata": {
    "scrolled": true
   },
   "outputs": [
    {
     "name": "stdout",
     "output_type": "stream",
     "text": [
      "Test accuracy:  0.9894516607096155\n"
     ]
    }
   ],
   "source": [
    "y_pred = predict(model, torch.from_numpy(X_test_ar).float())\n",
    "acc = np.mean(Ytest == y_pred)\n",
    "print(\"Test accuracy: \", acc)"
   ]
  },
  {
   "cell_type": "markdown",
   "id": "20317375",
   "metadata": {},
   "source": [
    "Vizualizing Train and Validation Accuracy and Loss."
   ]
  },
  {
   "cell_type": "code",
   "execution_count": 67,
   "id": "e26e483f",
   "metadata": {},
   "outputs": [
    {
     "data": {
      "text/plain": [
       "Text(0.5, 1.0, 'Train-Val Loss/Epoch')"
      ]
     },
     "execution_count": 67,
     "metadata": {},
     "output_type": "execute_result"
    },
    {
     "data": {
      "image/png": "[encoded data removed]",
      "text/plain": [
       "<Figure size 1440x504 with 2 Axes>"
      ]
     },
     "metadata": {
      "needs_background": "light"
     },
     "output_type": "display_data"
    }
   ],
   "source": [
    "train_val_acc_df = pd.DataFrame.from_dict(accuracy_stats).reset_index().melt(id_vars=['index']).rename(columns={\"index\":\"epochs\"})\n",
    "train_val_loss_df = pd.DataFrame.from_dict(loss_stats).reset_index().melt(id_vars=['index']).rename(columns={\"index\":\"epochs\"})\n",
    "\n",
    "fig, axes = plt.subplots(nrows=1, ncols=2, figsize=(20,7))\n",
    "sns.lineplot(data=train_val_acc_df, x = \"epochs\", y=\"value\", hue=\"variable\",  ax=axes[0]).set_title('Train-Val Accuracy/Epoch')\n",
    "sns.lineplot(data=train_val_loss_df, x = \"epochs\", y=\"value\", hue=\"variable\", ax=axes[1]).set_title('Train-Val Loss/Epoch')"
   ]
  },
  {
   "cell_type": "code",
   "execution_count": 68,
   "id": "9c5ead8d",
   "metadata": {},
   "outputs": [
    {
     "name": "stdout",
     "output_type": "stream",
     "text": [
      "              precision    recall  f1-score   support\n",
      "\n",
      "     Class 0       1.00      0.99      0.99     11373\n",
      "     Class 1       0.44      0.91      0.60        98\n",
      "\n",
      "    accuracy                           0.99     11471\n",
      "   macro avg       0.72      0.95      0.79     11471\n",
      "weighted avg       0.99      0.99      0.99     11471\n",
      "\n"
     ]
    }
   ],
   "source": [
    "target_names = ['Class 0', 'Class 1']\n",
    "print(classification_report(Ytest, y_pred, target_names = target_names))"
   ]
  },
  {
   "cell_type": "markdown",
   "id": "9877fdba",
   "metadata": {},
   "source": [
    "# Conclusion\n",
    "\n",
    "The moodel implemented fot creditcard fraud ditection uising Nural Network with Tensor flow.\n",
    "\n",
    "The model shows simmilar Train-Validation accuracy, and Train-Validation loss has no major diffrence. The overall accuracy of odel is 0.99 which is reallu good."
   ]
  }
 ],
 "metadata": {
  "kernelspec": {
   "display_name": "Python 3",
   "language": "python",
   "name": "python3"
  },
  "language_info": {
   "codemirror_mode": {
    "name": "ipython",
    "version": 3
   },
   "file_extension": ".py",
   "mimetype": "text/x-python",
   "name": "python",
   "nbconvert_exporter": "python",
   "pygments_lexer": "ipython3",
   "version": "3.8.8"
  }
 },
 "nbformat": 4,
 "nbformat_minor": 5
}
